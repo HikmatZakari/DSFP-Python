{
 "cells": [
  {
   "cell_type": "code",
   "execution_count": 1,
   "id": "acb34b30-bcf4-4484-a5d4-f02385142cfe",
   "metadata": {
    "tags": []
   },
   "outputs": [],
   "source": [
    "#While Loop\n",
    "\n",
    "PlayListRatings = [10, 9.5, 10, 8, 7.5, 5, 10, 10]\n",
    "\n"
   ]
  },
  {
   "cell_type": "code",
   "execution_count": null,
   "id": "4c4cb050-eca5-48ac-815d-f8aa86cdee92",
   "metadata": {},
   "outputs": [],
   "source": []
  }
 ],
 "metadata": {
  "kernelspec": {
   "display_name": "Python 3 (ipykernel)",
   "language": "python",
   "name": "python3"
  },
  "language_info": {
   "codemirror_mode": {
    "name": "ipython",
    "version": 3
   },
   "file_extension": ".py",
   "mimetype": "text/x-python",
   "name": "python",
   "nbconvert_exporter": "python",
   "pygments_lexer": "ipython3",
   "version": "3.11.5"
  }
 },
 "nbformat": 4,
 "nbformat_minor": 5
}
